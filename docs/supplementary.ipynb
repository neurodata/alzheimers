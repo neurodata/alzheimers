{
 "cells": [
  {
   "cell_type": "code",
   "execution_count": 14,
   "id": "df828de0-ee81-4f45-897a-1fcf8f9cc805",
   "metadata": {},
   "outputs": [],
   "source": [
    "import matplotlib.pyplot as plt\n",
    "import numpy as np\n",
    "import pandas as pd\n",
    "import seaborn as sns\n",
    "from graspologic.cluster import AutoGMMCluster, GaussianCluster\n",
    "from graspologic.embed import ClassicalMDS\n",
    "from sklearn.metrics import adjusted_rand_score\n",
    "\n",
    "\n",
    "def flatten(l):\n",
    "    return [item for sublist in l for item in sublist]"
   ]
  },
  {
   "cell_type": "code",
   "execution_count": 4,
   "id": "d2272863-1ee1-4969-bf49-3c33e22cdf65",
   "metadata": {},
   "outputs": [],
   "source": [
    "vols = np.load(\"../data/embeddings/vol_embed.npy\")\n",
    "fa = np.load(\"../data/embeddings/fa_embed.npy\")\n",
    "# concat = np.hstack([vols, fa])\n",
    "\n",
    "meta = pd.read_csv(\"../data/processed/meta.csv\")\n",
    "truth = meta.Genotype.values\n",
    "\n",
    "d = int(np.ceil(np.sqrt(169)))"
   ]
  },
  {
   "cell_type": "code",
   "execution_count": 34,
   "id": "77f4ae7c-360b-4dcd-bf17-9db0ab93c865",
   "metadata": {},
   "outputs": [],
   "source": [
    "scores = []\n",
    "\n",
    "for i in range(1, 5):\n",
    "    concat = np.hstack([vols[:, :, :i], fa[:, :, :i]])\n",
    "    cmds = ClassicalMDS(n_components=d).fit_transform(concat)\n",
    "    predicted = AutoGMMCluster(min_components=3, max_components=3).fit_predict(cmds)\n",
    "\n",
    "    score = adjusted_rand_score(truth, predicted)\n",
    "    scores.append((i, score))"
   ]
  },
  {
   "cell_type": "code",
   "execution_count": 35,
   "id": "4c1adaa3-19d8-4f31-be84-4f628f1a8742",
   "metadata": {},
   "outputs": [
    {
     "data": {
      "text/plain": [
       "6"
      ]
     },
     "execution_count": 35,
     "metadata": {},
     "output_type": "execute_result"
    }
   ],
   "source": [
    "np.argmax(scores)"
   ]
  },
  {
   "cell_type": "code",
   "execution_count": 36,
   "id": "f7e35914-1cc2-4f27-a9a3-dbbe8fc9c4c1",
   "metadata": {},
   "outputs": [
    {
     "data": {
      "text/plain": [
       "[(1, 0.05179286880588104),\n",
       " (2, 0.17575819255037656),\n",
       " (3, 0.1602402932321887),\n",
       " (4, 0.10326509390818368)]"
      ]
     },
     "execution_count": 36,
     "metadata": {},
     "output_type": "execute_result"
    }
   ],
   "source": [
    "scores"
   ]
  },
  {
   "cell_type": "code",
   "execution_count": 37,
   "id": "eb64ec0b-c898-4c7f-bcd1-047ba9e0eb8f",
   "metadata": {},
   "outputs": [
    {
     "data": {
      "text/plain": [
       "7"
      ]
     },
     "execution_count": 37,
     "metadata": {},
     "output_type": "execute_result"
    }
   ],
   "source": [
    "scores = []\n",
    "\n",
    "for i in range(1, 10):\n",
    "    np.random.seed(4)\n",
    "    concat = np.hstack([vols[:, :, :i], fa[:, :, :i]])\n",
    "    cmds = ClassicalMDS(n_components=d).fit_transform(concat)\n",
    "    predicted = GaussianCluster(min_components=3, max_components=3).fit_predict(cmds)\n",
    "\n",
    "    score = adjusted_rand_score(truth, predicted)\n",
    "    scores.append(score)\n",
    "\n",
    "np.argmax(scores)"
   ]
  },
  {
   "cell_type": "code",
   "execution_count": 38,
   "id": "0c481708-4b99-4ff0-8fb5-f0cf3600dcca",
   "metadata": {},
   "outputs": [
    {
     "data": {
      "text/plain": [
       "[0.16739934113916446,\n",
       " 0.16739934113916446,\n",
       " 0.17722292562460043,\n",
       " 0.17467182379533994,\n",
       " 0.12583530413552466,\n",
       " 0.11871386017171894,\n",
       " 0.10950065394547101,\n",
       " 0.18749360835122994,\n",
       " 0.18749360835122994]"
      ]
     },
     "execution_count": 38,
     "metadata": {},
     "output_type": "execute_result"
    }
   ],
   "source": [
    "scores"
   ]
  },
  {
   "cell_type": "code",
   "execution_count": null,
   "id": "d1006144-7eb0-4cce-9f28-896a648c59cd",
   "metadata": {},
   "outputs": [],
   "source": []
  }
 ],
 "metadata": {
  "kernelspec": {
   "display_name": "Python 3 (ipykernel)",
   "language": "python",
   "name": "python3"
  },
  "language_info": {
   "codemirror_mode": {
    "name": "ipython",
    "version": 3
   },
   "file_extension": ".py",
   "mimetype": "text/x-python",
   "name": "python",
   "nbconvert_exporter": "python",
   "pygments_lexer": "ipython3",
   "version": "3.9.16"
  }
 },
 "nbformat": 4,
 "nbformat_minor": 5
}
