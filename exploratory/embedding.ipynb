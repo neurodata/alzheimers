{
 "cells": [
  {
   "cell_type": "markdown",
   "id": "e488e3df-47bf-4ef0-814c-3f5c9374c297",
   "metadata": {},
   "source": [
    "# Comparisons of differences in brain regions\n",
    "\n",
    "This notebook performs omnibus embedding of volumetric and fractional antisotropy difference matrices for mice. For each mouse, we have a matrix consisting of the average volume and fractional antisotropy in a given region. These data matrices are first normalized across mice. Using the normalized measurements, compute the pairwise differences between all pairs of regions to form distance matrices, whose entries indicate the difference in the indicated measurement type (volume; mean FA) between a given pair of regions. These distance matrices are then embedded using the omnibus embedding into 18 embedding dimensions. For each mouse, this gives us an $N \\times d$ estimated latent position matrix, whose entries correspond to the estimated $d$-dimensional latent position for each region of interest in the mouse data."
   ]
  },
  {
   "cell_type": "code",
   "execution_count": 1,
   "id": "3f9d7866-dad2-4974-918b-05279ceedd68",
   "metadata": {},
   "outputs": [],
   "source": [
    "import pandas as pd\n",
    "from graspologic.embed import OmnibusEmbed\n",
    "from scipy.spatial.distance import pdist, squareform"
   ]
  },
  {
   "cell_type": "code",
   "execution_count": 2,
   "id": "f769aaf9-5105-4418-8155-71d708783b32",
   "metadata": {},
   "outputs": [],
   "source": [
    "volumes = pd.read_csv(\"../data/processed/volumes.csv\")\n",
    "fa = pd.read_csv(\"../data/processed/fa.csv\")\n",
    "meta = pd.read_csv(\"../data/processed/meta.csv\")\n",
    "\n",
    "vols = []\n",
    "for idx, row in meta.iterrows():\n",
    "    ID = row[\"ID\"]\n",
    "    vols.append(volumes[[ID]].values.ravel())\n",
    "\n",
    "fas = []\n",
    "for idx, row in meta.iterrows():\n",
    "    ID = row[\"ID\"]\n",
    "    fas.append(fa[[ID]].values.ravel())\n",
    "\n",
    "vols = np.vstack(vols)\n",
    "vols /= vols.sum(axis=1, keepdims=True)\n",
    "\n",
    "fas = np.vstack(fas)\n",
    "fas /= fas.sum(axis=1, keepdims=True)\n",
    "\n",
    "vol_dists = [squareform(pdist(v.reshape(-1, 1))) for v in vols]\n",
    "fa_dists = [squareform(pdist(v.reshape(-1, 1))) for v in fas]"
   ]
  },
  {
   "cell_type": "code",
   "execution_count": 3,
   "id": "0737cb27-2f49-44a6-8467-97a3483d6a7a",
   "metadata": {},
   "outputs": [],
   "source": [
    "omni = OmnibusEmbed(n_components=18)\n",
    "vol_embed = omni.fit_transform(vol_dists)"
   ]
  },
  {
   "cell_type": "code",
   "execution_count": 70,
   "id": "820bbd07-e7bf-4457-997f-b095404ff7b7",
   "metadata": {},
   "outputs": [],
   "source": [
    "omni = OmnibusEmbed(n_components=18)\n",
    "fa_embed = omni.fit_transform(fa_dists)"
   ]
  },
  {
   "cell_type": "code",
   "execution_count": 44,
   "id": "c28e6d3a-e481-41ac-8b46-5e4c15cbb3e0",
   "metadata": {},
   "outputs": [],
   "source": [
    "np.save(\"../data/embeddings/vol_embed\", vol_embed)"
   ]
  },
  {
   "cell_type": "code",
   "execution_count": 71,
   "id": "7eefcd39-4d6c-457d-aece-19956b7ed463",
   "metadata": {},
   "outputs": [],
   "source": [
    "np.save(\"../data/embeddings/fa_embed\", fa_embed)"
   ]
  }
 ],
 "metadata": {
  "kernelspec": {
   "display_name": "Python 3 (ipykernel)",
   "language": "python",
   "name": "python3"
  },
  "language_info": {
   "codemirror_mode": {
    "name": "ipython",
    "version": 3
   },
   "file_extension": ".py",
   "mimetype": "text/x-python",
   "name": "python",
   "nbconvert_exporter": "python",
   "pygments_lexer": "ipython3",
   "version": "3.11.9"
  }
 },
 "nbformat": 4,
 "nbformat_minor": 5
}
